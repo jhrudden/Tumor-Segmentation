{
 "cells": [
  {
   "cell_type": "code",
   "execution_count": null,
   "metadata": {},
   "outputs": [],
   "source": [
    "import sys\n",
    "import pathlib\n",
    "import pandas as pd\n",
    "import numpy as np\n",
    "\n",
    "src = pathlib.Path().absolute().parent\n",
    "sys.path.append(str(src))\n",
    "\n",
    "from src.data.classification import TumorClassificationDataset\n",
    "from src.enums import DataSplit"
   ]
  },
  {
   "cell_type": "markdown",
   "metadata": {},
   "source": [
    "### Classification Dataset Label Distribution"
   ]
  },
  {
   "cell_type": "code",
   "execution_count": null,
   "metadata": {},
   "outputs": [],
   "source": [
    "counts = []\n",
    "for split in DataSplit:\n",
    "    if split == DataSplit.VALIDATION:\n",
    "        continue\n",
    "    data = TumorClassificationDataset(src / 'datasets', split=split)\n",
    "    file_names, labels = zip(*data.samples)\n",
    "    labels = np.array([data.idx_to_class[label] for label in labels])\n",
    "    df = pd.DataFrame([file_names, labels], index=['file_name', 'label']).T\n",
    "\n",
    "    # get distribution of labels\n",
    "    label_counts = df['label'].value_counts()\n",
    "    label_counts = label_counts.sort_index()\n",
    "    counts.append((split, label_counts))\n",
    "\n",
    "# create one table with row being split and columns being label counts\n",
    "df = pd.concat([count for _, count in counts], axis=1)\n",
    "df.columns = [split.name for split in DataSplit if split != DataSplit.VALIDATION]\n",
    "df = df.fillna(0)\n",
    "df = df.astype(int)\n",
    "\n",
    "# create separate table with row being split and columns being label distribution\n",
    "df_dist = df.div(df.sum(axis=0), axis=1)\n",
    "distribution = df_dist.map(lambda x: f'{x:.2%}')\n",
    "\n",
    "print(df)\n",
    "print(distribution)"
   ]
  }
 ],
 "metadata": {
  "kernelspec": {
   "display_name": "ai_project_env",
   "language": "python",
   "name": "python3"
  },
  "language_info": {
   "codemirror_mode": {
    "name": "ipython",
    "version": 3
   },
   "file_extension": ".py",
   "mimetype": "text/x-python",
   "name": "python",
   "nbconvert_exporter": "python",
   "pygments_lexer": "ipython3",
   "version": "3.11.8"
  }
 },
 "nbformat": 4,
 "nbformat_minor": 2
}
